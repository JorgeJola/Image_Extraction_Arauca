{
 "cells": [
  {
   "cell_type": "code",
   "execution_count": 6,
   "metadata": {},
   "outputs": [
    {
     "name": "stdout",
     "output_type": "stream",
     "text": [
      "Map saved as HTML at: 2015.html\n"
     ]
    },
    {
     "name": "stderr",
     "output_type": "stream",
     "text": [
      "/var/folders/j9/v4x3hnqx5mx5xp1r2572v97c0000gn/T/ipykernel_2763/3435597596.py:24: RuntimeWarning: divide by zero encountered in divide\n",
      "  stretched_band = ((band - pmin) / (pmax - pmin) * 255).clip(0, 255)\n",
      "/var/folders/j9/v4x3hnqx5mx5xp1r2572v97c0000gn/T/ipykernel_2763/3435597596.py:24: RuntimeWarning: invalid value encountered in divide\n",
      "  stretched_band = ((band - pmin) / (pmax - pmin) * 255).clip(0, 255)\n",
      "/var/folders/j9/v4x3hnqx5mx5xp1r2572v97c0000gn/T/ipykernel_2763/3435597596.py:25: RuntimeWarning: invalid value encountered in cast\n",
      "  return np.uint8(stretched_band)\n"
     ]
    }
   ],
   "source": [
    "import rasterio\n",
    "import numpy as np\n",
    "import folium\n",
    "import cv2  # OpenCV for image processing\n",
    "year=str(2015)\n",
    "# File path\n",
    "raster_path = f\"/Users/jorgeandresjolahernandez/Desktop/Proyecto_Arauca/Automation_App/Image_Extraction_Arauca/static/rasters/Saravena/{year}.tif\"\n",
    "\n",
    "# Open the raster and read the bands\n",
    "with rasterio.open(raster_path) as src:\n",
    "    band1 = src.read(3)  # Red\n",
    "    band2 = src.read(2)  # Green\n",
    "    band3 = src.read(1)  # Blue\n",
    "    profile = src.profile\n",
    "    bounds = src.bounds\n",
    "\n",
    "# Function to stretch values using percentiles (for better contrast)\n",
    "def percentile_stretch(band, lower_percentile=2, upper_percentile=98):\n",
    "    # Calculate the lower and upper percentiles\n",
    "    pmin = np.percentile(band, lower_percentile)\n",
    "    pmax = np.percentile(band, upper_percentile)\n",
    "    \n",
    "    # Stretch values to the range 0-255 based on percentiles\n",
    "    stretched_band = ((band - pmin) / (pmax - pmin) * 255).clip(0, 255)\n",
    "    return np.uint8(stretched_band)\n",
    "\n",
    "# Apply percentile-based contrast stretching to each band\n",
    "band1_stretched = percentile_stretch(band1)\n",
    "band2_stretched = percentile_stretch(band2)\n",
    "band3_stretched = percentile_stretch(band3)\n",
    "\n",
    "# Stack the stretched bands to form a color image (RGB)\n",
    "rgb_image = np.stack([band1_stretched, band2_stretched, band3_stretched], axis=-1)\n",
    "\n",
    "# Apply histogram equalization to improve contrast\n",
    "rgb_image_eq = cv2.equalizeHist(rgb_image[:, :, 0])  # Red channel\n",
    "band2_eq = cv2.equalizeHist(rgb_image[:, :, 1])  # Green channel\n",
    "band3_eq = cv2.equalizeHist(rgb_image[:, :, 2])  # Blue channel\n",
    "\n",
    "# Stack the equalized bands to form the image\n",
    "rgb_image_eq = np.stack([rgb_image_eq, band2_eq, band3_eq], axis=-1)\n",
    "\n",
    "# Create an alpha channel where values are transparent only if they are 0\n",
    "alpha_channel = np.where((band1 == 0) & (band2 == 0) & (band3 == 0), 0, 255).astype(np.uint8)\n",
    "\n",
    "# Add transparency to the image using the alpha channel\n",
    "rgba_image = cv2.merge([rgb_image_eq[:, :, 0], rgb_image_eq[:, :, 1], rgb_image_eq[:, :, 2], alpha_channel])\n",
    "\n",
    "# Create a temporary file for the RGBA image (for folium overlay)\n",
    "output_path = \"overlay_image.png\"\n",
    "cv2.imwrite(output_path, rgba_image)\n",
    "\n",
    "# Create a folium map centered around the raster bounds\n",
    "map_center = [(bounds[1] + bounds[3]) / 2, (bounds[0] + bounds[2]) / 2]\n",
    "m = folium.Map(location=map_center, zoom_start=10)\n",
    "\n",
    "# Add the image as an overlay to the folium map with adjusted opacity\n",
    "folium.raster_layers.ImageOverlay(\n",
    "    image=rgba_image,\n",
    "    bounds=[[bounds[1], bounds[0]], [bounds[3], bounds[2]]],\n",
    "    opacity=0.9  # Adjusted opacity to make the image more visible\n",
    ").add_to(m)\n",
    "\n",
    "# Save the folium map as an HTML file\n",
    "map_html_path = f\"{year}.html\"\n",
    "m.save(map_html_path)\n",
    "\n",
    "# Print the path to the HTML file\n",
    "print(f\"Map saved as HTML at: {map_html_path}\")\n"
   ]
  }
 ],
 "metadata": {
  "kernelspec": {
   "display_name": "Python 3",
   "language": "python",
   "name": "python3"
  },
  "language_info": {
   "codemirror_mode": {
    "name": "ipython",
    "version": 3
   },
   "file_extension": ".py",
   "mimetype": "text/x-python",
   "name": "python",
   "nbconvert_exporter": "python",
   "pygments_lexer": "ipython3",
   "version": "3.12.3"
  }
 },
 "nbformat": 4,
 "nbformat_minor": 2
}
